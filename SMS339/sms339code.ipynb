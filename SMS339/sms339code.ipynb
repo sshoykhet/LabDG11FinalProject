{
 "cells": [
  {
   "cell_type": "markdown",
   "metadata": {},
   "source": [
    "# Crime Data in the Neighborhoods of Pittsburgh"
   ]
  },
  {
   "cell_type": "markdown",
   "metadata": {},
   "source": [
    "### By Sam Shoykhet"
   ]
  },
  {
   "cell_type": "markdown",
   "metadata": {},
   "source": [
    "## Data"
   ]
  },
  {
   "cell_type": "markdown",
   "metadata": {},
   "source": [
    "When moving to a new area safety is always an important metric. Thus, I chose crime data as my metric for evaluating neighborhoods. The amount of crime, especially violent crime within a neighborhood is an enormous contributor to the safety of that neighborhood."
   ]
  },
  {
   "cell_type": "code",
   "execution_count": 1,
   "metadata": {},
   "outputs": [],
   "source": [
    "import pandas as pd\n",
    "import numpy as np\n",
    "from pandas import DataFrame\n",
    "%matplotlib inline\n",
    "pd.set_option('display.max_columns', None)\n",
    "pd.set_option('display.max_rows', None)"
   ]
  },
  {
   "cell_type": "markdown",
   "metadata": {},
   "source": [
    "I chose the Pittsburgh Crime Data dataset because it includes the most pertinent information specifically the neighborhood in which the crime occurred, the list of what the arrest was for, and multiple unique columns that allow me to count different ways."
   ]
  },
  {
   "cell_type": "code",
   "execution_count": 3,
   "metadata": {},
   "outputs": [],
   "source": [
    "crimeData = pd.read_csv(\"PittsburghCrimeData.csv\", \n",
    "                                       index_col=\"CCR\")"
   ]
  },
  {
   "cell_type": "code",
   "execution_count": 4,
   "metadata": {},
   "outputs": [],
   "source": [
    "check = crimeData.groupby('INCIDENTNEIGHBORHOOD')"
   ]
  },
  {
   "cell_type": "markdown",
   "metadata": {},
   "source": [
    "Below are the first ten rows of the data sheet."
   ]
  },
  {
   "cell_type": "code",
   "execution_count": 5,
   "metadata": {},
   "outputs": [
    {
     "data": {
      "text/html": [
       "<div>\n",
       "<style scoped>\n",
       "    .dataframe tbody tr th:only-of-type {\n",
       "        vertical-align: middle;\n",
       "    }\n",
       "\n",
       "    .dataframe tbody tr th {\n",
       "        vertical-align: top;\n",
       "    }\n",
       "\n",
       "    .dataframe thead th {\n",
       "        text-align: right;\n",
       "    }\n",
       "</style>\n",
       "<table border=\"1\" class=\"dataframe\">\n",
       "  <thead>\n",
       "    <tr style=\"text-align: right;\">\n",
       "      <th></th>\n",
       "      <th>PK</th>\n",
       "      <th>AGE</th>\n",
       "      <th>GENDER</th>\n",
       "      <th>RACE</th>\n",
       "      <th>ARRESTTIME</th>\n",
       "      <th>ARRESTLOCATION</th>\n",
       "      <th>OFFENSES</th>\n",
       "      <th>INCIDENTLOCATION</th>\n",
       "      <th>INCIDENTNEIGHBORHOOD</th>\n",
       "      <th>INCIDENTZONE</th>\n",
       "      <th>INCIDENTTRACT</th>\n",
       "      <th>COUNCIL_DISTRICT</th>\n",
       "      <th>PUBLIC_WORKS_DIVISION</th>\n",
       "      <th>X</th>\n",
       "      <th>Y</th>\n",
       "    </tr>\n",
       "    <tr>\n",
       "      <th>CCR</th>\n",
       "      <th></th>\n",
       "      <th></th>\n",
       "      <th></th>\n",
       "      <th></th>\n",
       "      <th></th>\n",
       "      <th></th>\n",
       "      <th></th>\n",
       "      <th></th>\n",
       "      <th></th>\n",
       "      <th></th>\n",
       "      <th></th>\n",
       "      <th></th>\n",
       "      <th></th>\n",
       "      <th></th>\n",
       "      <th></th>\n",
       "    </tr>\n",
       "  </thead>\n",
       "  <tbody>\n",
       "    <tr>\n",
       "      <th>16158872</th>\n",
       "      <td>1975272</td>\n",
       "      <td>42.0</td>\n",
       "      <td>F</td>\n",
       "      <td>B</td>\n",
       "      <td>2016-08-24T12:20:00</td>\n",
       "      <td>4700 Block Centre AV Pittsburgh, PA 15213</td>\n",
       "      <td>3929 Retail Theft.</td>\n",
       "      <td>4700 Block Centre AV Pittsburgh, PA 15213</td>\n",
       "      <td>Bloomfield</td>\n",
       "      <td>5</td>\n",
       "      <td>804.0</td>\n",
       "      <td>8.0</td>\n",
       "      <td>2.0</td>\n",
       "      <td>-79.949277</td>\n",
       "      <td>40.452551</td>\n",
       "    </tr>\n",
       "    <tr>\n",
       "      <th>16144120</th>\n",
       "      <td>1974456</td>\n",
       "      <td>31.0</td>\n",
       "      <td>M</td>\n",
       "      <td>W</td>\n",
       "      <td>2016-08-03T14:55:00</td>\n",
       "      <td>4200 Block Steubenville PKE Pittsburgh, PA 15205</td>\n",
       "      <td>13(a)(16) Possession of Controlled Substance</td>\n",
       "      <td>4200 Block Steubenville PKE Pittsburgh, PA 15205</td>\n",
       "      <td>Outside City</td>\n",
       "      <td>OSC</td>\n",
       "      <td>5599.0</td>\n",
       "      <td>NaN</td>\n",
       "      <td>NaN</td>\n",
       "      <td>-80.088018</td>\n",
       "      <td>40.440136</td>\n",
       "    </tr>\n",
       "    <tr>\n",
       "      <th>16144165</th>\n",
       "      <td>1974466</td>\n",
       "      <td>63.0</td>\n",
       "      <td>F</td>\n",
       "      <td>B</td>\n",
       "      <td>2016-08-03T16:45:00</td>\n",
       "      <td>900 Block Freeport RD Fox Chapel, PA 15238</td>\n",
       "      <td>3929 Retail Theft.</td>\n",
       "      <td>900 Block Freeport RD Fox Chapel, PA 15238</td>\n",
       "      <td>Westwood</td>\n",
       "      <td>5</td>\n",
       "      <td>2811.0</td>\n",
       "      <td>9.0</td>\n",
       "      <td>2.0</td>\n",
       "      <td>-79.891803</td>\n",
       "      <td>40.486625</td>\n",
       "    </tr>\n",
       "    <tr>\n",
       "      <th>16145257</th>\n",
       "      <td>1974550</td>\n",
       "      <td>25.0</td>\n",
       "      <td>F</td>\n",
       "      <td>W</td>\n",
       "      <td>2016-08-05T02:36:00</td>\n",
       "      <td>Foreland ST &amp; Cedar AV Pittsburgh, PA 15212</td>\n",
       "      <td>5503 Disorderly Conduct. / 5505 Public Drunken...</td>\n",
       "      <td>Foreland ST &amp; Cedar AV Pittsburgh, PA 15212</td>\n",
       "      <td>East Allegheny</td>\n",
       "      <td>1</td>\n",
       "      <td>2304.0</td>\n",
       "      <td>1.0</td>\n",
       "      <td>1.0</td>\n",
       "      <td>-80.001939</td>\n",
       "      <td>40.454080</td>\n",
       "    </tr>\n",
       "    <tr>\n",
       "      <th>16145962</th>\n",
       "      <td>1974596</td>\n",
       "      <td>25.0</td>\n",
       "      <td>M</td>\n",
       "      <td>B</td>\n",
       "      <td>2016-08-06T02:00:00</td>\n",
       "      <td>900 Block Woodlow ST Pittsburgh, PA 15205</td>\n",
       "      <td>2702 Aggravated Assault. / 2705 Recklessy Enda...</td>\n",
       "      <td>900 Block Woodlow ST Pittsburgh, PA 15205</td>\n",
       "      <td>Crafton Heights</td>\n",
       "      <td>5</td>\n",
       "      <td>2814.0</td>\n",
       "      <td>2.0</td>\n",
       "      <td>5.0</td>\n",
       "      <td>-80.052204</td>\n",
       "      <td>40.445900</td>\n",
       "    </tr>\n",
       "    <tr>\n",
       "      <th>16144301</th>\n",
       "      <td>1974556</td>\n",
       "      <td>45.0</td>\n",
       "      <td>M</td>\n",
       "      <td>W</td>\n",
       "      <td>2016-08-15T13:30:00</td>\n",
       "      <td>600 Block 1st AV Pittsburgh, PA 15219</td>\n",
       "      <td>3929 Retail Theft.</td>\n",
       "      <td>800 Block Hazelwood AV Pittsburgh, PA 15217</td>\n",
       "      <td>Greenfield</td>\n",
       "      <td>4</td>\n",
       "      <td>1517.0</td>\n",
       "      <td>5.0</td>\n",
       "      <td>3.0</td>\n",
       "      <td>-79.929238</td>\n",
       "      <td>40.419699</td>\n",
       "    </tr>\n",
       "    <tr>\n",
       "      <th>16147655</th>\n",
       "      <td>1974628</td>\n",
       "      <td>29.0</td>\n",
       "      <td>M</td>\n",
       "      <td>W</td>\n",
       "      <td>2016-08-16T13:00:00</td>\n",
       "      <td>2300 Block Pioneer AV Pittsburgh, PA 15226</td>\n",
       "      <td>2701 Simple Assault.</td>\n",
       "      <td>2300 Block Pioneer AV Pittsburgh, PA 15226</td>\n",
       "      <td>Brookline</td>\n",
       "      <td>6</td>\n",
       "      <td>1919.0</td>\n",
       "      <td>4.0</td>\n",
       "      <td>5.0</td>\n",
       "      <td>-80.020357</td>\n",
       "      <td>40.400037</td>\n",
       "    </tr>\n",
       "    <tr>\n",
       "      <th>16146037</th>\n",
       "      <td>1974607</td>\n",
       "      <td>21.0</td>\n",
       "      <td>F</td>\n",
       "      <td>B</td>\n",
       "      <td>2016-08-16T04:25:00</td>\n",
       "      <td>600 Block 1st AV Pittsburgh, PA 15219</td>\n",
       "      <td>2701 Simple Assault. / 5505 Public Drunkenness...</td>\n",
       "      <td>700 Block S Braddock AV Pittsburgh, PA 15221</td>\n",
       "      <td>Regent Square</td>\n",
       "      <td>4</td>\n",
       "      <td>1410.0</td>\n",
       "      <td>NaN</td>\n",
       "      <td>NaN</td>\n",
       "      <td>-79.834462</td>\n",
       "      <td>40.398957</td>\n",
       "    </tr>\n",
       "    <tr>\n",
       "      <th>16132537</th>\n",
       "      <td>1974643</td>\n",
       "      <td>17.0</td>\n",
       "      <td>M</td>\n",
       "      <td>B</td>\n",
       "      <td>2016-08-29T17:55:00</td>\n",
       "      <td>1400 Block Washington BL Pittsburgh, PA 15206</td>\n",
       "      <td>903 Criminal Conspiracy. / 3701 Robbery.</td>\n",
       "      <td>N Euclid AV &amp; Broad ST Pittsburgh, PA 15206</td>\n",
       "      <td>East Liberty</td>\n",
       "      <td>5</td>\n",
       "      <td>1115.0</td>\n",
       "      <td>NaN</td>\n",
       "      <td>NaN</td>\n",
       "      <td>0.000000</td>\n",
       "      <td>0.000000</td>\n",
       "    </tr>\n",
       "    <tr>\n",
       "      <th>16138646</th>\n",
       "      <td>1974647</td>\n",
       "      <td>14.0</td>\n",
       "      <td>M</td>\n",
       "      <td>B</td>\n",
       "      <td>2016-08-23T13:36:00</td>\n",
       "      <td>Zone 2</td>\n",
       "      <td>3127 Indecent Exposure. / 3123(a)(6) IDSI with...</td>\n",
       "      <td>Zone 5</td>\n",
       "      <td>NaN</td>\n",
       "      <td>5</td>\n",
       "      <td>NaN</td>\n",
       "      <td>NaN</td>\n",
       "      <td>NaN</td>\n",
       "      <td>NaN</td>\n",
       "      <td>NaN</td>\n",
       "    </tr>\n",
       "  </tbody>\n",
       "</table>\n",
       "</div>"
      ],
      "text/plain": [
       "               PK   AGE GENDER RACE           ARRESTTIME  \\\n",
       "CCR                                                        \n",
       "16158872  1975272  42.0      F    B  2016-08-24T12:20:00   \n",
       "16144120  1974456  31.0      M    W  2016-08-03T14:55:00   \n",
       "16144165  1974466  63.0      F    B  2016-08-03T16:45:00   \n",
       "16145257  1974550  25.0      F    W  2016-08-05T02:36:00   \n",
       "16145962  1974596  25.0      M    B  2016-08-06T02:00:00   \n",
       "16144301  1974556  45.0      M    W  2016-08-15T13:30:00   \n",
       "16147655  1974628  29.0      M    W  2016-08-16T13:00:00   \n",
       "16146037  1974607  21.0      F    B  2016-08-16T04:25:00   \n",
       "16132537  1974643  17.0      M    B  2016-08-29T17:55:00   \n",
       "16138646  1974647  14.0      M    B  2016-08-23T13:36:00   \n",
       "\n",
       "                                            ARRESTLOCATION  \\\n",
       "CCR                                                          \n",
       "16158872         4700 Block Centre AV Pittsburgh, PA 15213   \n",
       "16144120  4200 Block Steubenville PKE Pittsburgh, PA 15205   \n",
       "16144165        900 Block Freeport RD Fox Chapel, PA 15238   \n",
       "16145257       Foreland ST & Cedar AV Pittsburgh, PA 15212   \n",
       "16145962         900 Block Woodlow ST Pittsburgh, PA 15205   \n",
       "16144301             600 Block 1st AV Pittsburgh, PA 15219   \n",
       "16147655        2300 Block Pioneer AV Pittsburgh, PA 15226   \n",
       "16146037             600 Block 1st AV Pittsburgh, PA 15219   \n",
       "16132537     1400 Block Washington BL Pittsburgh, PA 15206   \n",
       "16138646                                            Zone 2   \n",
       "\n",
       "                                                   OFFENSES  \\\n",
       "CCR                                                           \n",
       "16158872                                 3929 Retail Theft.   \n",
       "16144120       13(a)(16) Possession of Controlled Substance   \n",
       "16144165                                 3929 Retail Theft.   \n",
       "16145257  5503 Disorderly Conduct. / 5505 Public Drunken...   \n",
       "16145962  2702 Aggravated Assault. / 2705 Recklessy Enda...   \n",
       "16144301                                 3929 Retail Theft.   \n",
       "16147655                               2701 Simple Assault.   \n",
       "16146037  2701 Simple Assault. / 5505 Public Drunkenness...   \n",
       "16132537           903 Criminal Conspiracy. / 3701 Robbery.   \n",
       "16138646  3127 Indecent Exposure. / 3123(a)(6) IDSI with...   \n",
       "\n",
       "                                          INCIDENTLOCATION  \\\n",
       "CCR                                                          \n",
       "16158872         4700 Block Centre AV Pittsburgh, PA 15213   \n",
       "16144120  4200 Block Steubenville PKE Pittsburgh, PA 15205   \n",
       "16144165        900 Block Freeport RD Fox Chapel, PA 15238   \n",
       "16145257       Foreland ST & Cedar AV Pittsburgh, PA 15212   \n",
       "16145962         900 Block Woodlow ST Pittsburgh, PA 15205   \n",
       "16144301       800 Block Hazelwood AV Pittsburgh, PA 15217   \n",
       "16147655        2300 Block Pioneer AV Pittsburgh, PA 15226   \n",
       "16146037      700 Block S Braddock AV Pittsburgh, PA 15221   \n",
       "16132537       N Euclid AV & Broad ST Pittsburgh, PA 15206   \n",
       "16138646                                            Zone 5   \n",
       "\n",
       "         INCIDENTNEIGHBORHOOD INCIDENTZONE  INCIDENTTRACT  COUNCIL_DISTRICT  \\\n",
       "CCR                                                                           \n",
       "16158872           Bloomfield            5          804.0               8.0   \n",
       "16144120         Outside City          OSC         5599.0               NaN   \n",
       "16144165             Westwood            5         2811.0               9.0   \n",
       "16145257       East Allegheny            1         2304.0               1.0   \n",
       "16145962      Crafton Heights            5         2814.0               2.0   \n",
       "16144301           Greenfield            4         1517.0               5.0   \n",
       "16147655            Brookline            6         1919.0               4.0   \n",
       "16146037        Regent Square            4         1410.0               NaN   \n",
       "16132537         East Liberty            5         1115.0               NaN   \n",
       "16138646                  NaN            5            NaN               NaN   \n",
       "\n",
       "          PUBLIC_WORKS_DIVISION          X          Y  \n",
       "CCR                                                    \n",
       "16158872                    2.0 -79.949277  40.452551  \n",
       "16144120                    NaN -80.088018  40.440136  \n",
       "16144165                    2.0 -79.891803  40.486625  \n",
       "16145257                    1.0 -80.001939  40.454080  \n",
       "16145962                    5.0 -80.052204  40.445900  \n",
       "16144301                    3.0 -79.929238  40.419699  \n",
       "16147655                    5.0 -80.020357  40.400037  \n",
       "16146037                    NaN -79.834462  40.398957  \n",
       "16132537                    NaN   0.000000   0.000000  \n",
       "16138646                    NaN        NaN        NaN  "
      ]
     },
     "execution_count": 5,
     "metadata": {},
     "output_type": "execute_result"
    }
   ],
   "source": [
    "crimeData[0:10]"
   ]
  },
  {
   "cell_type": "markdown",
   "metadata": {},
   "source": [
    "The most obvious use of this data is to simply count the number of arrests that occurred in each neighborhood and use the smallest number in any area as the safest, and thus, best neighborhood in Pittsburgh. "
   ]
  },
  {
   "cell_type": "code",
   "execution_count": 11,
   "metadata": {},
   "outputs": [
    {
     "name": "stdout",
     "output_type": "stream",
     "text": [
      "                             ARRESTTIME\n",
      "INCIDENTNEIGHBORHOOD                   \n",
      "Mt. Oliver Neighborhood               2\n",
      "Troy Hill-Herrs Island                6\n",
      "Mt. Oliver Boro                      16\n",
      "Regent Square                        22\n",
      "Central Northside                    23\n",
      "Ridgemont                            24\n",
      "New Homestead                        26\n",
      "Swisshelm Park                       27\n",
      "Chartiers City                       28\n",
      "St. Clair                            35\n",
      "East Carnegie                        36\n",
      "Outside County                       41\n",
      "Outside State                        45\n",
      "Oakwood                              54\n",
      "Summer Hill                          57\n",
      "Fairywood                            73\n",
      "Hays                                 75\n",
      "Windgap                              76\n",
      "Golden Triangle/Civic Arena          83\n",
      "Allegheny West                       85\n",
      "Glen Hazel                           89\n",
      "Mount Oliver                         96\n",
      "Arlington Heights                   109\n",
      "Polish Hill                         114\n",
      "Friendship                          121\n",
      "Esplen                              121\n",
      "Lincoln Place                       123\n",
      "Duquesne Heights                    127\n",
      "Upper Lawrenceville                 135\n",
      "Morningside                         136\n",
      "Westwood                            149\n",
      "Bon Air                             156\n",
      "Stanton Heights                     159\n",
      "Point Breeze North                  176\n",
      "Spring Garden                       176\n",
      "Terrace Village                     179\n",
      "Lower Lawrenceville                 181\n",
      "Banksville                          183\n",
      "Squirrel Hill North                 185\n",
      "West End                            189\n",
      "South Shore                         194\n",
      "California-Kirkbride                197\n",
      "Overbrook                           197\n",
      "Arlington                           198\n",
      "Outside City                        208\n",
      "West Oakland                        212\n",
      "South Oakland                       219\n",
      "Point Breeze                        238\n",
      "Upper Hill                          257\n",
      "North Oakland                       270\n",
      "Troy Hill                           297\n",
      "Chateau                             312\n"
     ]
    },
    {
     "data": {
      "text/plain": [
       "<matplotlib.axes._subplots.AxesSubplot at 0x7f883a9db280>"
      ]
     },
     "execution_count": 11,
     "metadata": {},
     "output_type": "execute_result"
    },
    {
     "data": {
      "image/png": "[encoded data removed]",
      "text/plain": [
       "<Figure size 1440x1440 with 1 Axes>"
      ]
     },
     "metadata": {
      "needs_background": "light"
     },
     "output_type": "display_data"
    }
   ],
   "source": [
    "temp = check['ARRESTTIME'].count()\n",
    "dTemp = DataFrame(temp)\n",
    "dTemp = dTemp.sort_values(['ARRESTTIME'], ascending=1)\n",
    "print(dTemp[0:39])\n",
    "temp.plot(x='INCIDENTNEIGHBORHOOD', kind='bar', figsize=(20, 20))"
   ]
  },
  {
   "cell_type": "markdown",
   "metadata": {},
   "source": [
    "By this metric Mt. Oliver is the best neighborhood in Pittsburgh. However, it is important to note that not all crime is equal. We care more about crimes that more significantly impact the safety of the neighborhood, i.e. violent crimes. The National Institute of Justice defines violent crime as a crime in which the victim is inflicted with or threatened by violence. For this purpose we can use the most significant that are enumerated in the definition: rape, sexual assault, robbery, assault and murder. The following data looks specifically at these crimes."
   ]
  },
  {
   "cell_type": "code",
   "execution_count": 68,
   "metadata": {},
   "outputs": [],
   "source": [
    "nTemp = DataFrame(crimeData[crimeData['OFFENSES'].str.find('NaN') == -1])\n",
    "vCrimeData = nTemp[nTemp['OFFENSES'].str.contains('Rape')]\n",
    "vCrimeData = vCrimeData.merge(nTemp[nTemp['OFFENSES'].str.contains('Assault')], how='outer')\n",
    "vCrimeData = vCrimeData.merge(nTemp[nTemp['OFFENSES'].str.contains('Robbery')], how='outer')\n",
    "vCrimeData = vCrimeData.merge(nTemp[nTemp['OFFENSES'].str.contains('Murder')], how='outer')"
   ]
  },
  {
   "cell_type": "code",
   "execution_count": 69,
   "metadata": {},
   "outputs": [],
   "source": [
    "SortedVCrimeData = vCrimeData.groupby('INCIDENTNEIGHBORHOOD')"
   ]
  },
  {
   "cell_type": "code",
   "execution_count": 1,
   "metadata": {},
   "outputs": [
    {
     "ename": "NameError",
     "evalue": "name 'SortedVCrimeData' is not defined",
     "output_type": "error",
     "traceback": [
      "\u001b[0;31m---------------------------------------------------------------------------\u001b[0m",
      "\u001b[0;31mNameError\u001b[0m                                 Traceback (most recent call last)",
      "\u001b[0;32m<ipython-input-1-1221e34335fe>\u001b[0m in \u001b[0;36m<module>\u001b[0;34m\u001b[0m\n\u001b[0;32m----> 1\u001b[0;31m \u001b[0mfTemp\u001b[0m \u001b[0;34m=\u001b[0m \u001b[0mSortedVCrimeData\u001b[0m\u001b[0;34m[\u001b[0m\u001b[0;34m'ARRESTTIME'\u001b[0m\u001b[0;34m]\u001b[0m\u001b[0;34m.\u001b[0m\u001b[0mcount\u001b[0m\u001b[0;34m(\u001b[0m\u001b[0;34m)\u001b[0m\u001b[0;34m\u001b[0m\u001b[0;34m\u001b[0m\u001b[0m\n\u001b[0m\u001b[1;32m      2\u001b[0m \u001b[0mfDTemp\u001b[0m \u001b[0;34m=\u001b[0m \u001b[0mDataFrame\u001b[0m\u001b[0;34m(\u001b[0m\u001b[0mfTemp\u001b[0m\u001b[0;34m)\u001b[0m\u001b[0;34m\u001b[0m\u001b[0;34m\u001b[0m\u001b[0m\n\u001b[1;32m      3\u001b[0m \u001b[0mprint\u001b[0m\u001b[0;34m(\u001b[0m\u001b[0mfDTemp\u001b[0m\u001b[0;34m.\u001b[0m\u001b[0msort_values\u001b[0m\u001b[0;34m(\u001b[0m\u001b[0;34m[\u001b[0m\u001b[0;34m'ARRESTTIME'\u001b[0m\u001b[0;34m]\u001b[0m\u001b[0;34m,\u001b[0m \u001b[0mascending\u001b[0m\u001b[0;34m=\u001b[0m\u001b[0;36m1\u001b[0m\u001b[0;34m)\u001b[0m\u001b[0;34m[\u001b[0m\u001b[0;36m0\u001b[0m\u001b[0;34m:\u001b[0m\u001b[0;36m15\u001b[0m\u001b[0;34m]\u001b[0m\u001b[0;34m)\u001b[0m\u001b[0;34m\u001b[0m\u001b[0;34m\u001b[0m\u001b[0m\n\u001b[1;32m      4\u001b[0m \u001b[0mfTemp\u001b[0m\u001b[0;34m.\u001b[0m\u001b[0mplot\u001b[0m\u001b[0;34m(\u001b[0m\u001b[0mx\u001b[0m\u001b[0;34m=\u001b[0m\u001b[0;34m'INCIDENTNEIGHBORHOOD'\u001b[0m\u001b[0;34m,\u001b[0m \u001b[0mkind\u001b[0m\u001b[0;34m=\u001b[0m\u001b[0;34m'bar'\u001b[0m\u001b[0;34m,\u001b[0m \u001b[0mfigsize\u001b[0m\u001b[0;34m=\u001b[0m\u001b[0;34m(\u001b[0m\u001b[0;36m20\u001b[0m\u001b[0;34m,\u001b[0m \u001b[0;36m20\u001b[0m\u001b[0;34m)\u001b[0m\u001b[0;34m)\u001b[0m\u001b[0;34m\u001b[0m\u001b[0;34m\u001b[0m\u001b[0m\n",
      "\u001b[0;31mNameError\u001b[0m: name 'SortedVCrimeData' is not defined"
     ]
    }
   ],
   "source": [
    "fTemp = SortedVCrimeData['ARRESTTIME'].count()\n",
    "fDTemp = DataFrame(fTemp)\n",
    "print(fDTemp.sort_values(['ARRESTTIME'], ascending=1)[0:15])\n",
    "fTemp.plot(x='INCIDENTNEIGHBORHOOD', kind='bar', figsize=(20, 20))"
   ]
  },
  {
   "cell_type": "markdown",
   "metadata": {},
   "source": [
    "When looking specifically at arrests for violent crimes, Mt. Oliver and Central Northside tie for the lowest number each having only one. However, this excludes Troy Hill-Herrs Island because there were no violent crime arrests in that neighborhood. Troy Hill-Herrs Island is the only neighborhood that does not appear on this graph."
   ]
  },
  {
   "cell_type": "markdown",
   "metadata": {},
   "source": [
    "## Conclusion"
   ]
  },
  {
   "cell_type": "markdown",
   "metadata": {},
   "source": [
    "By both general arrests and arrests for violent crimes Troy Hill-Herrs Island is the best neighborhood in Pittsburgh. Troy Hill-Herrs Island doesn't even appear in the violent crime graph because there is no violent crime. Mt. Oliver Neighborhood comes in second with only one violent crime and the least general crime. Central Northside comes in third having the same violent crime, but more general crime."
   ]
  },
  {
   "cell_type": "code",
   "execution_count": null,
   "metadata": {},
   "outputs": [],
   "source": []
  }
 ],
 "metadata": {
  "kernelspec": {
   "display_name": "Python 3",
   "language": "python",
   "name": "python3"
  },
  "language_info": {
   "codemirror_mode": {
    "name": "ipython",
    "version": 3
   },
   "file_extension": ".py",
   "mimetype": "text/x-python",
   "name": "python",
   "nbconvert_exporter": "python",
   "pygments_lexer": "ipython3",
   "version": "3.8.3"
  }
 },
 "nbformat": 4,
 "nbformat_minor": 4
}
