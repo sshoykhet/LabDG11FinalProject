{
 "cells": [
  {
   "cell_type": "markdown",
   "metadata": {},
   "source": [
    "# Proximity to Public Schools in the Neighborhoods of Pittsburgh \n",
    "### By Winston Osei-Bonsu"
   ]
  },
  {
   "cell_type": "markdown",
   "metadata": {},
   "source": [
    "*When asked to decide on a definitive metric to use to determine the \"best\" neighborhood in Pittsburgh, I immediately thought back to Human Development Index (HDI) I learned of when taking AP Human Geography in high school. This index provides a numerical means of measuring a nation's average achievement by producing a composite score based on what are considered to be the key dimensions of human progress.*\n",
    "\n",
    "*If someone were to ask me for a data-driven means of selecting the \"best\" country in the world, I would immediately default to this index. So, when asked to select the \"best\" country, it's only reasonable to assume that the metric to be used in this definition is one of the dimensions that constitute the HDI index.*\n",
    "\n",
    "*This narrowed my options down to four categories: life expectancy, education, and per capita income indicators. Out of all of these, I consider education to be the most indicative of progress in a small community. While both income and life expectancy are strong indicators of a successful community at any scale, both of these factors are often directly influenced by one's level of education. In my mind, this makes education the best choice for this analysis.*\n"
   ]
  },
  {
   "cell_type": "markdown",
   "metadata": {},
   "source": [
    "***The Education Oppurtunity Score will be equal to the percentage of teachers who preform at a \"distiguished\" level. This data was gathered using the 2016 Report to the Community on Public School Progress in Pittsburgh.***\n"
   ]
  },
  {
   "cell_type": "markdown",
   "metadata": {},
   "source": [
    "*To start, I imported a my data set.*"
   ]
  },
  {
   "cell_type": "code",
   "execution_count": 4,
   "metadata": {},
   "outputs": [],
   "source": [
    "import pandas as pd\n",
    "import numpy as np\n",
    "from pandas import DataFrame\n",
    "%matplotlib inline\n",
    "pd.set_option('display.max_columns', None)\n",
    "pd.set_option('display.max_rows', None)\n",
    "\n",
    "school_data = DataFrame(pd.read_csv(\"pps_schoolsapr2019publish_edited.csv\", index_col = \"sourcedid\"))"
   ]
  },
  {
   "cell_type": "markdown",
   "metadata": {},
   "source": [
    "*The following is a sample data table displaying information about 10 schools in Pittsburgh.*"
   ]
  },
  {
   "cell_type": "code",
   "execution_count": 5,
   "metadata": {},
   "outputs": [
    {
     "data": {
      "text/html": [
       "<div>\n",
       "<style scoped>\n",
       "    .dataframe tbody tr th:only-of-type {\n",
       "        vertical-align: middle;\n",
       "    }\n",
       "\n",
       "    .dataframe tbody tr th {\n",
       "        vertical-align: top;\n",
       "    }\n",
       "\n",
       "    .dataframe thead th {\n",
       "        text-align: right;\n",
       "    }\n",
       "</style>\n",
       "<table border=\"1\" class=\"dataframe\">\n",
       "  <thead>\n",
       "    <tr style=\"text-align: right;\">\n",
       "      <th></th>\n",
       "      <th>name</th>\n",
       "      <th>address</th>\n",
       "      <th>city</th>\n",
       "      <th>neighborhood</th>\n",
       "      <th>score</th>\n",
       "      <th>state</th>\n",
       "      <th>zip</th>\n",
       "      <th>latitude</th>\n",
       "      <th>longitude</th>\n",
       "    </tr>\n",
       "    <tr>\n",
       "      <th>sourcedid</th>\n",
       "      <th></th>\n",
       "      <th></th>\n",
       "      <th></th>\n",
       "      <th></th>\n",
       "      <th></th>\n",
       "      <th></th>\n",
       "      <th></th>\n",
       "      <th></th>\n",
       "      <th></th>\n",
       "    </tr>\n",
       "  </thead>\n",
       "  <tbody>\n",
       "    <tr>\n",
       "      <th>301</th>\n",
       "      <td>Allderdice High School</td>\n",
       "      <td>2409 SHADY AVE</td>\n",
       "      <td>PITTSBURGH</td>\n",
       "      <td>Squirrel Hill</td>\n",
       "      <td>83</td>\n",
       "      <td>PA</td>\n",
       "      <td>15217</td>\n",
       "      <td>40.42942</td>\n",
       "      <td>-79.9194</td>\n",
       "    </tr>\n",
       "    <tr>\n",
       "      <th>204</th>\n",
       "      <td>Allegheny 6-8</td>\n",
       "      <td>810 ARCH ST</td>\n",
       "      <td>PITTSBURGH</td>\n",
       "      <td>Allegheny Center</td>\n",
       "      <td>25</td>\n",
       "      <td>PA</td>\n",
       "      <td>15212</td>\n",
       "      <td>40.45323</td>\n",
       "      <td>-80.0087</td>\n",
       "    </tr>\n",
       "    <tr>\n",
       "      <th>102</th>\n",
       "      <td>Allegheny K-5</td>\n",
       "      <td>810 ARCH ST</td>\n",
       "      <td>PITTSBURGH</td>\n",
       "      <td>Allegheny Center</td>\n",
       "      <td>86</td>\n",
       "      <td>PA</td>\n",
       "      <td>15212</td>\n",
       "      <td>40.45318</td>\n",
       "      <td>-80.0089</td>\n",
       "    </tr>\n",
       "    <tr>\n",
       "      <th>101</th>\n",
       "      <td>Arlington PreK-8</td>\n",
       "      <td>800 RECTENWALD ST</td>\n",
       "      <td>PITTSBURGH</td>\n",
       "      <td>Arlington</td>\n",
       "      <td>75</td>\n",
       "      <td>PA</td>\n",
       "      <td>15210</td>\n",
       "      <td>40.40857</td>\n",
       "      <td>-79.9794</td>\n",
       "    </tr>\n",
       "    <tr>\n",
       "      <th>298</th>\n",
       "      <td>Arsenal 6-8</td>\n",
       "      <td>220 40TH STREET</td>\n",
       "      <td>PITTSBURGH</td>\n",
       "      <td>Center Lawrenceville</td>\n",
       "      <td>75</td>\n",
       "      <td>PA</td>\n",
       "      <td>15201</td>\n",
       "      <td>40.46833</td>\n",
       "      <td>-79.9619</td>\n",
       "    </tr>\n",
       "    <tr>\n",
       "      <th>108</th>\n",
       "      <td>Arsenal PreK-5</td>\n",
       "      <td>215 39th St</td>\n",
       "      <td>PITTSBURGH</td>\n",
       "      <td>Central Lawrenceville</td>\n",
       "      <td>32</td>\n",
       "      <td>PA</td>\n",
       "      <td>15201</td>\n",
       "      <td>40.46737</td>\n",
       "      <td>-79.9634</td>\n",
       "    </tr>\n",
       "    <tr>\n",
       "      <th>103</th>\n",
       "      <td>Banksville K-5</td>\n",
       "      <td>1001 CARNAHAN RD</td>\n",
       "      <td>PITTSBURGH</td>\n",
       "      <td>Banksville</td>\n",
       "      <td>81</td>\n",
       "      <td>PA</td>\n",
       "      <td>15216</td>\n",
       "      <td>40.40742</td>\n",
       "      <td>-80.0367</td>\n",
       "    </tr>\n",
       "    <tr>\n",
       "      <th>105</th>\n",
       "      <td>Beechwood PreK-5</td>\n",
       "      <td>810 ROCKLAND AVE</td>\n",
       "      <td>PITTSBURGH</td>\n",
       "      <td>Beechview</td>\n",
       "      <td>100</td>\n",
       "      <td>PA</td>\n",
       "      <td>15216</td>\n",
       "      <td>40.41563</td>\n",
       "      <td>-80.0208</td>\n",
       "    </tr>\n",
       "    <tr>\n",
       "      <th>329</th>\n",
       "      <td>Brashear High School</td>\n",
       "      <td>590 CRANE AVE</td>\n",
       "      <td>PITTSBURGH</td>\n",
       "      <td>Beechview</td>\n",
       "      <td>59</td>\n",
       "      <td>PA</td>\n",
       "      <td>15216</td>\n",
       "      <td>40.41808</td>\n",
       "      <td>-80.0182</td>\n",
       "    </tr>\n",
       "    <tr>\n",
       "      <th>110</th>\n",
       "      <td>Brookline PreK-8</td>\n",
       "      <td>500 WOODBOURNE AVE</td>\n",
       "      <td>PITTSBURGH</td>\n",
       "      <td>Brookline</td>\n",
       "      <td>80</td>\n",
       "      <td>PA</td>\n",
       "      <td>15226</td>\n",
       "      <td>40.39441</td>\n",
       "      <td>-80.0247</td>\n",
       "    </tr>\n",
       "  </tbody>\n",
       "</table>\n",
       "</div>"
      ],
      "text/plain": [
       "                             name             address        city  \\\n",
       "sourcedid                                                           \n",
       "301        Allderdice High School      2409 SHADY AVE  PITTSBURGH   \n",
       "204                 Allegheny 6-8         810 ARCH ST  PITTSBURGH   \n",
       "102                 Allegheny K-5         810 ARCH ST  PITTSBURGH   \n",
       "101              Arlington PreK-8   800 RECTENWALD ST  PITTSBURGH   \n",
       "298                   Arsenal 6-8     220 40TH STREET  PITTSBURGH   \n",
       "108                Arsenal PreK-5         215 39th St  PITTSBURGH   \n",
       "103                Banksville K-5    1001 CARNAHAN RD  PITTSBURGH   \n",
       "105              Beechwood PreK-5    810 ROCKLAND AVE  PITTSBURGH   \n",
       "329          Brashear High School       590 CRANE AVE  PITTSBURGH   \n",
       "110              Brookline PreK-8  500 WOODBOURNE AVE  PITTSBURGH   \n",
       "\n",
       "                    neighborhood  score state    zip  latitude  longitude  \n",
       "sourcedid                                                                  \n",
       "301               Squirrel Hill      83    PA  15217  40.42942   -79.9194  \n",
       "204             Allegheny Center     25    PA  15212  40.45323   -80.0087  \n",
       "102             Allegheny Center     86    PA  15212  40.45318   -80.0089  \n",
       "101                    Arlington     75    PA  15210  40.40857   -79.9794  \n",
       "298         Center Lawrenceville     75    PA  15201  40.46833   -79.9619  \n",
       "108        Central Lawrenceville     32    PA  15201  40.46737   -79.9634  \n",
       "103                   Banksville     81    PA  15216  40.40742   -80.0367  \n",
       "105                    Beechview    100    PA  15216  40.41563   -80.0208  \n",
       "329                    Beechview     59    PA  15216  40.41808   -80.0182  \n",
       "110                    Brookline     80    PA  15226  40.39441   -80.0247  "
      ]
     },
     "execution_count": 5,
     "metadata": {},
     "output_type": "execute_result"
    }
   ],
   "source": [
    "school_data[0:10]"
   ]
  },
  {
   "cell_type": "markdown",
   "metadata": {},
   "source": [
    "*This data is filtered by removing irrelevant information, then aggregating scores based on neighborhood. In lines 1 and 2 of the following cell, the drop() method is used to eliminate every column besides neighborhood and score. The last line of the cell combines all rows that share the same neighborhood value, then averages them.*"
   ]
  },
  {
   "cell_type": "code",
   "execution_count": 6,
   "metadata": {},
   "outputs": [],
   "source": [
    "school_data.drop(school_data.columns[0:3], inplace = True, axis = 1)\n",
    "school_data.drop(school_data.columns[2:6], inplace = True, axis = 1)\n",
    "school_data = school_data.groupby('neighborhood').agg('mean')"
   ]
  },
  {
   "cell_type": "code",
   "execution_count": 7,
   "metadata": {},
   "outputs": [
    {
     "data": {
      "text/plain": [
       "<matplotlib.axes._subplots.AxesSubplot at 0x7f54f1c05b50>"
      ]
     },
     "execution_count": 7,
     "metadata": {},
     "output_type": "execute_result"
    },
    {
     "data": {
      "image/png": "[encoded data removed]",
      "text/plain": [
       "<Figure size 1440x1440 with 1 Axes>"
      ]
     },
     "metadata": {
      "needs_background": "light"
     },
     "output_type": "display_data"
    }
   ],
   "source": [
    "school_data.plot(kind='bar', figsize=(20, 20))"
   ]
  },
  {
   "cell_type": "markdown",
   "metadata": {},
   "source": [
    "#### *Given the provided data, we can conclude that the best neighborhood in Pittsburgh is:* ***Highland Park***"
   ]
  },
  {
   "cell_type": "markdown",
   "metadata": {},
   "source": [
    "***There rankings for the top five best neighborhoods in Pittsburgh are as follows:***\n",
    "<ol>\n",
    "<li>Highland Park  |  85.0</li>\n",
    "<li>Southside  |  83.0</li>\n",
    "<li>Squirrel Hill  |  83.0</li>\n",
    "<li>Banksville  |  81.0</li>\n",
    "<li>Bloomfield  |  79.0</li>\n",
    "</ol>"
   ]
  },
  {
   "cell_type": "markdown",
   "metadata": {},
   "source": [
    "*The aforementioned five neighborhoods will later play a role in determining the best neighborhood in Pittsburgh using multiple metrics rather than one. Each of these neighborhoods has been assigned a point value from one to five in the inverse order of their rank (Ex: Highland Park, Rank 1, 5 points... Bloomfield, Rank 5, 1 point). By pulling our data together, we hope that we can come to a more informed conclusion about the best neighborhood in our city.*"
   ]
  },
  {
   "cell_type": "markdown",
   "metadata": {},
   "source": [
    "## Reflection / Conclusion\n",
    "\n",
    "*Using my metric, Highland park is the best neighborhood in _ittsburgh, as it averages 85% of its educators \"distinguished\" for the effectiveness of their teaching.*\n",
    "\n",
    "*While I was raised in Pennsylvania, I had never actually been to Pittsburgh until I began to attend school here. Since I have only been able to experience the city of Pittsburgh for a limited time, formulating a favorite neighborhood at this point is near impossible for me. I one day do want to thoroughly explore every neighborhood the city has to offer, and this metric may have just given me the place to start.*"
   ]
  },
  {
   "cell_type": "code",
   "execution_count": null,
   "metadata": {},
   "outputs": [],
   "source": []
  },
  {
   "cell_type": "code",
   "execution_count": null,
   "metadata": {},
   "outputs": [],
   "source": []
  }
 ],
 "metadata": {
  "kernelspec": {
   "display_name": "Python 3",
   "language": "python",
   "name": "python3"
  },
  "language_info": {
   "codemirror_mode": {
    "name": "ipython",
    "version": 3
   },
   "file_extension": ".py",
   "mimetype": "text/x-python",
   "name": "python",
   "nbconvert_exporter": "python",
   "pygments_lexer": "ipython3",
   "version": "3.8.3"
  }
 },
 "nbformat": 4,
 "nbformat_minor": 4
}
